{
 "cells": [
  {
   "cell_type": "code",
   "execution_count": 4,
   "metadata": {
    "collapsed": true
   },
   "outputs": [],
   "source": [
    "#{Print table of 7}"
   ]
  },
  {
   "cell_type": "code",
   "execution_count": 6,
   "metadata": {
    "collapsed": false
   },
   "outputs": [
    {
     "name": "stdout",
     "output_type": "stream",
     "text": [
      "0\n",
      "7\n",
      "14\n",
      "21\n",
      "28\n",
      "35\n",
      "42\n",
      "49\n",
      "56\n",
      "63\n",
      "70\n",
      "77\n",
      "84\n",
      "91\n",
      "98\n",
      "105\n",
      "112\n",
      "119\n",
      "126\n",
      "133\n",
      "140\n"
     ]
    }
   ],
   "source": [
    "for i in range(0,141,7):\n",
    "    print(i)"
   ]
  },
  {
   "cell_type": "code",
   "execution_count": 7,
   "metadata": {
    "collapsed": false
   },
   "outputs": [
    {
     "name": "stdout",
     "output_type": "stream",
     "text": [
      "['Apple', 'Orange', 'Banana', 'Peach', 'Strawberry']\n",
      "['Orange', 'Banana', 'Peach']\n",
      "Apple\n",
      "['Banana', 'Peach']\n",
      "['Strawberry', 'Banana', 'Apple']\n"
     ]
    }
   ],
   "source": [
    "x=['Apple','Orange','Banana','Peach','Strawberry']\n",
    "\n",
    "print(x[:])\n",
    "print(x[1:4])\n",
    "print(x[0])\n",
    "print(x[2:4])\n",
    "print(x[::-2])"
   ]
  },
  {
   "cell_type": "code",
   "execution_count": null,
   "metadata": {
    "collapsed": true
   },
   "outputs": [],
   "source": [
    "##4.\tWrite a program that takes a line as input and finds the number of letters and digits in the input"
   ]
  },
  {
   "cell_type": "code",
   "execution_count": null,
   "metadata": {
    "collapsed": false
   },
   "outputs": [
    {
     "name": "stdout",
     "output_type": "stream",
     "text": [
      "Enter value:qq\n"
     ]
    }
   ],
   "source": [
    "l= []\n",
    "while(True):\n",
    "    x=input(\"Enter value:\")\n",
    "    if(not x):\n",
    "        break\n",
    "    y=len(x)\n",
    "    while(y!=0):\n",
    "        for i in range(0,y):\n",
    "         if(x[i]=='a'):\n",
    "          l.append(x)\n",
    "print(l)"
   ]
  },
  {
   "cell_type": "code",
   "execution_count": 4,
   "metadata": {
    "collapsed": false
   },
   "outputs": [
    {
     "name": "stdout",
     "output_type": "stream",
     "text": [
      "11\n",
      "s\n",
      "s\n",
      "ss\n",
      "['11', 's', 's', 'ss']\n"
     ]
    }
   ],
   "source": [
    "list=[]\n",
    "for i in range(1,5):\n",
    "    list.append(input())\n",
    "print(list)"
   ]
  },
  {
   "cell_type": "code",
   "execution_count": null,
   "metadata": {
    "collapsed": false
   },
   "outputs": [],
   "source": [
    " list=[]\n",
    "while(True):\n",
    "    x = input(\"Enter Number\")\n",
    "    if(not x):\n",
    "         break\n",
    "    y = len(x)\n",
    "    for i in range(0,y):\n",
    "            if(x[i]=='a'):\n",
    "             list.append(x)\n",
    "             break\n",
    "print(list)"
   ]
  },
  {
   "cell_type": "code",
   "execution_count": 17,
   "metadata": {
    "collapsed": false
   },
   "outputs": [],
   "source": [
    "###Write a program that takes a sentence as input. Compute the frequency of each words and prints them. "
   ]
  },
  {
   "cell_type": "code",
   "execution_count": 18,
   "metadata": {
    "collapsed": false
   },
   "outputs": [
    {
     "name": "stdout",
     "output_type": "stream",
     "text": [
      "{'dog': 2, 'over': 1, 'the': 2, 'in': 1, 'road': 1, 'The': 1, 'run': 2, 'river': 1, 'falls': 1, 'and': 1}\n"
     ]
    }
   ],
   "source": [
    "dict={}\n",
    "x = \"The dog run run over the road and dog falls in the river\"\n",
    "y = x.split()\n",
    "for i in y:\n",
    "    if(i in dict.keys()):\n",
    "        dict[i] = dict[i]+1;\n",
    "    else:\n",
    "        dict[i] = 1;\n",
    "print(dict)\n"
   ]
  },
  {
   "cell_type": "code",
   "execution_count": null,
   "metadata": {
    "collapsed": true
   },
   "outputs": [],
   "source": []
  },
  {
   "cell_type": "code",
   "execution_count": null,
   "metadata": {
    "collapsed": true
   },
   "outputs": [],
   "source": []
  },
  {
   "cell_type": "code",
   "execution_count": null,
   "metadata": {
    "collapsed": true
   },
   "outputs": [],
   "source": []
  },
  {
   "cell_type": "code",
   "execution_count": null,
   "metadata": {
    "collapsed": true
   },
   "outputs": [],
   "source": []
  },
  {
   "cell_type": "code",
   "execution_count": null,
   "metadata": {
    "collapsed": true
   },
   "outputs": [],
   "source": []
  },
  {
   "cell_type": "code",
   "execution_count": null,
   "metadata": {
    "collapsed": true
   },
   "outputs": [],
   "source": []
  },
  {
   "cell_type": "code",
   "execution_count": null,
   "metadata": {
    "collapsed": true
   },
   "outputs": [],
   "source": []
  },
  {
   "cell_type": "code",
   "execution_count": null,
   "metadata": {
    "collapsed": false
   },
   "outputs": [],
   "source": []
  },
  {
   "cell_type": "code",
   "execution_count": null,
   "metadata": {
    "collapsed": true
   },
   "outputs": [],
   "source": []
  }
 ],
 "metadata": {
  "anaconda-cloud": {},
  "kernelspec": {
   "display_name": "Python [Root]",
   "language": "python",
   "name": "Python [Root]"
  },
  "language_info": {
   "codemirror_mode": {
    "name": "ipython",
    "version": 3
   },
   "file_extension": ".py",
   "mimetype": "text/x-python",
   "name": "python",
   "nbconvert_exporter": "python",
   "pygments_lexer": "ipython3",
   "version": "3.5.2"
  }
 },
 "nbformat": 4,
 "nbformat_minor": 0
}
