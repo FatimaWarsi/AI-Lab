{
 "cells": [
  {
   "cell_type": "markdown",
   "metadata": {},
   "source": [
    "# 4. Write a program that takes a line as input and finds the number of letters and digits in the input\n"
   ]
  },
  {
   "cell_type": "code",
   "execution_count": null,
   "metadata": {
    "collapsed": false
   },
   "outputs": [],
   "source": [
    "\n",
    "s = \"hello fatima 10214\"\n",
    "c = 0\n",
    "x = 0\n",
    "for i in s:\n",
    "    if i.isdigit():\n",
    "        c= c+1\n",
    "    if i.isalpha():\n",
    "        x = x+1\n",
    "print(\"Alpahabets: \",x)\n",
    "print(\"Digits: \",c)"
   ]
  },
  {
   "cell_type": "markdown",
   "metadata": {},
   "source": [
    "\n",
    "# 5.\tWrite a program that takes a sentence as input. Compute the frequency of each words and prints them. "
   ]
  },
  {
   "cell_type": "code",
   "execution_count": null,
   "metadata": {
    "collapsed": false
   },
   "outputs": [],
   "source": [
    "dict = {}\n",
    "str = \"Hello World\"\n",
    "x = str.split()\n",
    "for i in x:\n",
    "    if(i in dict.keys()):\n",
    "        dict[i] = dict[i]+1\n",
    "    else:\n",
    "    dict[i] = 1\n",
    "print(dict)\n"
   ]
  },
  {
   "cell_type": "code",
   "execution_count": null,
   "metadata": {
    "collapsed": true
   },
   "outputs": [],
   "source": []
  }
 ],
 "metadata": {
  "anaconda-cloud": {},
  "kernelspec": {
   "display_name": "Python [Root]",
   "language": "python",
   "name": "Python [Root]"
  },
  "language_info": {
   "codemirror_mode": {
    "name": "ipython",
    "version": 3
   },
   "file_extension": ".py",
   "mimetype": "text/x-python",
   "name": "python",
   "nbconvert_exporter": "python",
   "pygments_lexer": "ipython3",
   "version": "3.5.2"
  }
 },
 "nbformat": 4,
 "nbformat_minor": 0
}
