{
 "cells": [
  {
   "cell_type": "code",
   "execution_count": 5,
   "metadata": {
    "collapsed": false
   },
   "outputs": [
    {
     "name": "stdout",
     "output_type": "stream",
     "text": [
      "Enter number to check indegree: 3\n",
      "The indegree[inp] =  0\n"
     ]
    }
   ],
   "source": [
    "dict = {}\n",
    "dict[1]={4,6}\n",
    "dict[2]={1,6}\n",
    "dict[3]={1,2,4,6}\n",
    "dict[4]={5}\n",
    "dict[5]={6}\n",
    "dict[6]={}\n",
    "c=0;\n",
    "inp = int(input(\"Enter number to check indegree: \"))\n",
    "for i in dict.keys():\n",
    "    if(inp in dict[i]):\n",
    "        c=c+1\n",
    "print(\"The indegree[inp] = \",c)"
   ]
  },
  {
   "cell_type": "code",
   "execution_count": 9,
   "metadata": {
    "collapsed": false
   },
   "outputs": [
    {
     "name": "stdout",
     "output_type": "stream",
     "text": [
      "Enter outdegree value: 8\n",
      "not in key\n"
     ]
    }
   ],
   "source": [
    "out = int(input(\"Enter outdegree value: \"))\n",
    "if(out in dict.keys()):\n",
    "    x = len(dict[out])\n",
    "    print(\"The outdegree[out] = \",x)\n",
    "else:\n",
    "    print(\"not in key\")"
   ]
  },
  {
   "cell_type": "code",
   "execution_count": 12,
   "metadata": {
    "collapsed": false
   },
   "outputs": [
    {
     "name": "stdout",
     "output_type": "stream",
     "text": [
      "[1, 2, 4, 6, 7]\n"
     ]
    }
   ],
   "source": [
    "dict = {}\n",
    "dict[1]={2,4}\n",
    "dict[2]={4,6}\n",
    "dict[3]={1,5}\n",
    "dict[4]={7}\n",
    "dict[5]={6}\n",
    "dict[6]={4}\n",
    "dict[7] = {}\n",
    "li = [1]\n",
    "proc = []\n",
    "\n",
    "while(len(li))!=0:\n",
    "    n = li[0]\n",
    "    li.pop(0)\n",
    "    if(n not in li):\n",
    "        if(n not in proc):\n",
    "            proc.append(n)\n",
    "            aj = dict[n]\n",
    "            li += aj\n",
    "print(proc)"
   ]
  },
  {
   "cell_type": "code",
   "execution_count": null,
   "metadata": {
    "collapsed": true
   },
   "outputs": [],
   "source": []
  }
 ],
 "metadata": {
  "kernelspec": {
   "display_name": "Python [Root]",
   "language": "python",
   "name": "Python [Root]"
  },
  "language_info": {
   "codemirror_mode": {
    "name": "ipython",
    "version": 3
   },
   "file_extension": ".py",
   "mimetype": "text/x-python",
   "name": "python",
   "nbconvert_exporter": "python",
   "pygments_lexer": "ipython3",
   "version": "3.5.2"
  }
 },
 "nbformat": 4,
 "nbformat_minor": 0
}
